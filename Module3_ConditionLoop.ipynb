{
 "cells": [
  {
   "cell_type": "markdown",
   "metadata": {},
   "source": [
    "# CrashPy\n",
    "\n",
    "**Module 3 : Conditions and Loops in Python** \n",
    "\n",
    "Python is a fun language to learn, and really easy to pick up even if you are new to programming. In fact, quite often, Python is easier to pick up if you do not have any programming experience whatsoever. Python is high level programming language, targeted at students and professionals from diverse backgrounds.\n",
    "\n",
    "Python has two flavors -- Python 2 and Python 3. This set of examples are in Python 3, written and executed in the beautifully simple IDE Jupyter Notebook. Note that Jupyter has set up a `localhost:8888` server to render the notebook in your computer's browser. It can render anything now -- should be fun!\n",
    "\n",
    "> [Module 1](Module1_DataTypes.ipynb) : Data Types in Python  \n",
    "> [Module 2](Module2_DataStructures.ipynb) : Data Structures in Python   \n",
    "> **Module 3 : Conditions and Loops in Python**   \n",
    "> [Module 4](Module4_Functions.ipynb) : Functions and Modules in Python   \n",
    "> [Module 5](Module5_PythonComputing.ipynb) : Computing with Python\n",
    "\n",
    "---"
   ]
  },
  {
   "cell_type": "markdown",
   "metadata": {},
   "source": [
    "## Conditional Statements\n",
    "\n",
    "When we think of condition, `if-else` comes naturally to us. So does in any programming language.   \n",
    "Conditional Statements consist of two parts -- *Condition* and *Action*. In Python, it looks as follows.  \n",
    "The *Condition* in such cases can be any Boolean Logic that returns `True` or `False` in Python.   \n",
    "\n",
    "### If - Else\n",
    "> ```python\n",
    "> if CONDITION:\n",
    ">     SOME ACTION\n",
    ">     \n",
    "> else:\n",
    ">     SOME OTHER ACTION\n",
    "> \n",
    "> SOME UNCONDITIONAL ACTION\n",
    "> ```\n",
    "\n",
    "Note the use of **indentation** to mark a *block of code* in Python. This is crucial in Python programming.  \n",
    "The complete structure of a piece of code in Python is determinded by indentation. Be super-careful !   \n",
    "\n",
    "*Recommendation : Use consistent number of `spaces` (4 or 8) for the indentation, instead of `tabs`.*"
   ]
  },
  {
   "cell_type": "code",
   "execution_count": 1,
   "metadata": {},
   "outputs": [
    {
     "name": "stdout",
     "output_type": "stream",
     "text": [
      "5 is greater than 3\n",
      "Nice, that seems to work!\n"
     ]
    }
   ],
   "source": [
    "# IF-ELSE Conditions in Python\n",
    "x = 5\n",
    "\n",
    "if x > 3:\n",
    "    print(x, \"is greater than\", 3)\n",
    "else:\n",
    "    print(x, \"is less than or equal to\", 3)\n",
    "    \n",
    "print(\"Nice, that seems to work!\")"
   ]
  },
  {
   "cell_type": "code",
   "execution_count": 2,
   "metadata": {},
   "outputs": [
    {
     "name": "stdout",
     "output_type": "stream",
     "text": [
      "5 is greater than 3\n"
     ]
    }
   ],
   "source": [
    "# Just IF in Python\n",
    "x = 5\n",
    "\n",
    "if x > 3:\n",
    "    print(x, \"is greater than\", 3)"
   ]
  },
  {
   "cell_type": "markdown",
   "metadata": {},
   "source": [
    "### If - Else If - Else\n",
    "\n",
    "Slightly more complicated logic will require an `if-elif-else` control.\n",
    "\n",
    "> ```python\n",
    "> if CONDITION:\n",
    ">     SOME ACTION\n",
    ">     \n",
    "> elif CONDITION:\n",
    ">     SOME OTHER ACTION\n",
    ">     \n",
    "> else:\n",
    ">     SOME OTHER ACTION\n",
    "> \n",
    "> SOME UNCONDITIONAL ACTION\n",
    "> ```"
   ]
  },
  {
   "cell_type": "code",
   "execution_count": 3,
   "metadata": {},
   "outputs": [
    {
     "name": "stdout",
     "output_type": "stream",
     "text": [
      "5 is greater than 3\n",
      "Nice, that seems to work too!\n"
     ]
    }
   ],
   "source": [
    "# IF-ELIF-ELSE Conditions in Python\n",
    "x = 5\n",
    "\n",
    "if x > 3:\n",
    "    print(x, \"is greater than\", 3)\n",
    "elif x < 3:\n",
    "    print(x, \"is less than\", 3)\n",
    "else:\n",
    "    print(x, \"is equal to\", 3)\n",
    "    \n",
    "print(\"Nice, that seems to work too!\")"
   ]
  },
  {
   "cell_type": "markdown",
   "metadata": {},
   "source": [
    "### Nested Conditions\n",
    "\n",
    "You may also use a conditional control within another conditional routine.   \n",
    "Note the use of **indentation** in the following piece of code. Really crucial.\n",
    "\n",
    "> ```python\n",
    "> if FIRST CONDITION:\n",
    ">     FIRST ACTION\n",
    ">      \n",
    ">     if SECOND CONDITION:\n",
    ">         SECOND ACTION\n",
    ">     else:\n",
    ">         SECOND ALTERNATIVE ACTION\n",
    ">\n",
    "> else:\n",
    ">     FIRST ALTERNATIVE ACTION\n",
    ">      \n",
    ">     if THIRD CONDITION:\n",
    ">         THIRD ACTION\n",
    ">     else:\n",
    ">         THIRD ALTERNATIVE ACTION\n",
    ">\n",
    "> SOME UNCONDITIONAL ACTION\n",
    "> ```"
   ]
  },
  {
   "cell_type": "code",
   "execution_count": 4,
   "metadata": {},
   "outputs": [
    {
     "name": "stdout",
     "output_type": "stream",
     "text": [
      "5 is greater than 3\n",
      "5 is less than 10\n",
      "Quite nice, again!\n"
     ]
    }
   ],
   "source": [
    "# Nested Conditions in Python\n",
    "x = 5\n",
    "\n",
    "if x > 3:\n",
    "    print(x, \"is greater than\", 3)\n",
    "    \n",
    "    if x < 10:\n",
    "        print(x, \"is less than\", 10)\n",
    "    elif x > 10:\n",
    "        print(x, \"is greater than\", 10)\n",
    "    else:\n",
    "        print(x, \"is equal to\", 10)\n",
    "    \n",
    "elif x < 3:\n",
    "    print(x, \"is less than\", 3)\n",
    "    \n",
    "    if x < 0:\n",
    "        print(x, \"is less than\", 0)\n",
    "    elif x > 0:\n",
    "        print(x, \"is greater than\", 0)\n",
    "    else:\n",
    "        print(x, \"is equal to\", 0)\n",
    "    \n",
    "else:\n",
    "    print(x, \"is equal to\", 3)\n",
    "    \n",
    "print(\"Quite nice, again!\")"
   ]
  },
  {
   "cell_type": "markdown",
   "metadata": {},
   "source": [
    "---\n",
    "\n",
    "## Loops in Python\n",
    "\n",
    "There are two ways to *repeat* a code-block in Python -- `while` and `for` loops.   \n",
    "`while` is a **condition-controlled** loop, and `for` is a **counter-controlled** loop.\n",
    "\n",
    "### While\n",
    "\n",
    "The *Condition* in `while` can be any Boolean Logic, returning `True` or `False`.\n",
    "\n",
    "> ```python\n",
    "> while CONDITION:\n",
    ">     TAKE THIS ACTION\n",
    "> \n",
    "> EXECUTE AFTER THE LOOP\n",
    "> ```"
   ]
  },
  {
   "cell_type": "code",
   "execution_count": 5,
   "metadata": {},
   "outputs": [
    {
     "name": "stdout",
     "output_type": "stream",
     "text": [
      "1\n",
      "4\n",
      "9\n",
      "16\n",
      "25\n",
      "36\n",
      "49\n",
      "64\n",
      "81\n",
      "Done!\n"
     ]
    }
   ],
   "source": [
    "# While Loop\n",
    "x = 1\n",
    "while x < 10:\n",
    "    print(x**2)\n",
    "    x = x + 1\n",
    "\n",
    "print(\"Done!\")"
   ]
  },
  {
   "cell_type": "code",
   "execution_count": 6,
   "metadata": {},
   "outputs": [
    {
     "name": "stdout",
     "output_type": "stream",
     "text": [
      "4\n",
      "16\n",
      "Done!\n"
     ]
    }
   ],
   "source": [
    "# While Loop\n",
    "x = 2\n",
    "while x < 10:\n",
    "    print(x**2)\n",
    "    x = x**2\n",
    "\n",
    "print(\"Done!\")"
   ]
  },
  {
   "cell_type": "markdown",
   "metadata": {},
   "source": [
    "### For\n",
    "\n",
    "The *Iterable* in `for` can be any Python data structure that allows looping through *Elements*.\n",
    "\n",
    "> ```python\n",
    "> for ELEMENT in ITERABLE:\n",
    ">     TAKE THIS ACTION\n",
    "> \n",
    "> EXECUTE AFTER THE LOOP\n",
    "> ```"
   ]
  },
  {
   "cell_type": "code",
   "execution_count": 7,
   "metadata": {},
   "outputs": [
    {
     "name": "stdout",
     "output_type": "stream",
     "text": [
      "0\n",
      "1\n",
      "4\n",
      "9\n",
      "16\n",
      "25\n",
      "36\n",
      "49\n",
      "64\n",
      "81\n",
      "Done!\n"
     ]
    }
   ],
   "source": [
    "# Loop over a Range\n",
    "for x in range(10):\n",
    "    print(x**2)\n",
    "    x = x + 1\n",
    "\n",
    "print(\"Done!\")"
   ]
  },
  {
   "cell_type": "markdown",
   "metadata": {},
   "source": [
    "**Iterables in Python** involve Data Structures like Lists, Strings, Tuples, Sets, Dictionaries etc."
   ]
  },
  {
   "cell_type": "code",
   "execution_count": 8,
   "metadata": {},
   "outputs": [
    {
     "name": "stdout",
     "output_type": "stream",
     "text": [
      "100\n",
      "400\n",
      "900\n",
      "1600\n",
      "2500\n",
      "Done!\n"
     ]
    }
   ],
   "source": [
    "# Loop over a List\n",
    "some_list = [10, 20, 30, 40, 50]\n",
    "\n",
    "for x in some_list:\n",
    "    print(x**2)\n",
    "\n",
    "print(\"Done!\")"
   ]
  },
  {
   "cell_type": "code",
   "execution_count": 9,
   "metadata": {},
   "outputs": [
    {
     "name": "stdout",
     "output_type": "stream",
     "text": [
      "aaaaaaaaaa\n",
      "bbbbbbbbbb\n",
      "cccccccccc\n",
      "dddddddddd\n",
      "eeeeeeeeee\n",
      "Done!\n"
     ]
    }
   ],
   "source": [
    "# Loop over a List\n",
    "some_list = [\"a\", \"b\", \"c\", \"d\", \"e\"]\n",
    "\n",
    "for x in some_list:\n",
    "    print(10*x)\n",
    "\n",
    "print(\"Done!\")"
   ]
  },
  {
   "cell_type": "code",
   "execution_count": 10,
   "metadata": {},
   "outputs": [
    {
     "name": "stdout",
     "output_type": "stream",
     "text": [
      "[1, 2, 3, 4, 5, 1, 2, 3, 4, 5, 1, 2, 3, 4, 5]\n",
      "[6, 7, 8, 9, 0, 6, 7, 8, 9, 0, 6, 7, 8, 9, 0]\n",
      "[0, 9, 8, 7, 6, 0, 9, 8, 7, 6, 0, 9, 8, 7, 6]\n",
      "[5, 4, 3, 2, 1, 5, 4, 3, 2, 1, 5, 4, 3, 2, 1]\n",
      "Done!\n"
     ]
    }
   ],
   "source": [
    "# Loop over a List of Lists\n",
    "list_of_lists = [[1, 2, 3, 4, 5],\n",
    "                 [6, 7, 8, 9, 0],\n",
    "                 [0, 9, 8, 7, 6],\n",
    "                 [5, 4, 3, 2, 1]]\n",
    "\n",
    "for a_list in list_of_lists:\n",
    "    print(3 * a_list)\n",
    "\n",
    "print(\"Done!\")"
   ]
  },
  {
   "cell_type": "code",
   "execution_count": 11,
   "metadata": {},
   "outputs": [
    {
     "name": "stdout",
     "output_type": "stream",
     "text": [
      "1\t4\t9\t16\t25\t\n",
      "36\t49\t64\t81\t0\t\n",
      "0\t81\t64\t49\t36\t\n",
      "25\t16\t9\t4\t1\t\n",
      "Done!\n"
     ]
    }
   ],
   "source": [
    "# Nested Loop over a List of Lists\n",
    "list_of_lists = [[1, 2, 3, 4, 5],\n",
    "                 [6, 7, 8, 9, 0],\n",
    "                 [0, 9, 8, 7, 6],\n",
    "                 [5, 4, 3, 2, 1]]\n",
    "\n",
    "for a_list in list_of_lists:\n",
    "    for x in a_list:\n",
    "        print(x**2, end=\"\\t\")\n",
    "    print()\n",
    "\n",
    "print(\"Done!\")"
   ]
  },
  {
   "cell_type": "code",
   "execution_count": 12,
   "metadata": {},
   "outputs": [
    {
     "name": "stdout",
     "output_type": "stream",
     "text": [
      "P y t h o n   @   N T U   S i n g a p o r e "
     ]
    }
   ],
   "source": [
    "# Loop over a String\n",
    "line = \"Python @ NTU Singapore\"\n",
    "\n",
    "for c in line:\n",
    "    print(c, end=\" \")"
   ]
  },
  {
   "cell_type": "code",
   "execution_count": 13,
   "metadata": {},
   "outputs": [
    {
     "name": "stdout",
     "output_type": "stream",
     "text": [
      "100\n",
      "400\n",
      "900\n",
      "1600\n",
      "2500\n",
      "Done!\n"
     ]
    }
   ],
   "source": [
    "# Loop over a Tuple\n",
    "some_tuple = (10, 20, 30, 40, 50)\n",
    "\n",
    "for x in some_tuple:\n",
    "    print(x**2)\n",
    "\n",
    "print(\"Done!\")"
   ]
  },
  {
   "cell_type": "code",
   "execution_count": 14,
   "metadata": {},
   "outputs": [
    {
     "name": "stdout",
     "output_type": "stream",
     "text": [
      "1600\n",
      "100\n",
      "2500\n",
      "400\n",
      "900\n",
      "Done!\n"
     ]
    }
   ],
   "source": [
    "# Loop over a Set\n",
    "some_set = set([10, 20, 30, 40, 50])\n",
    "\n",
    "for x in some_set:\n",
    "    print(x**2)\n",
    "\n",
    "print(\"Done!\")"
   ]
  },
  {
   "cell_type": "markdown",
   "metadata": {},
   "source": [
    "Most common **Dictionary Iterables** in Python are `keys()`, `values()` and `items()` in a Dictionary."
   ]
  },
  {
   "cell_type": "code",
   "execution_count": 15,
   "metadata": {},
   "outputs": [
    {
     "name": "stdout",
     "output_type": "stream",
     "text": [
      "UCL\n",
      "MIT\n",
      "NTU\n"
     ]
    }
   ],
   "source": [
    "# Loop over all Keys in a Dictionary\n",
    "some_dict = { \"UCL\": [\"London\", 500], \"MIT\": [\"Cambridge\", 2000] , \"NTU\": [\"Singapore\", 5000] }\n",
    "\n",
    "for x in some_dict.keys():\n",
    "    print(x)"
   ]
  },
  {
   "cell_type": "code",
   "execution_count": 16,
   "metadata": {},
   "outputs": [
    {
     "name": "stdout",
     "output_type": "stream",
     "text": [
      "['London UK', 500]\n",
      "['Cambridge', 2000]\n",
      "['Singapore', 5000]\n"
     ]
    }
   ],
   "source": [
    "# Loop over all Values in a Dictionary\n",
    "some_dict = { \"UCL\": [\"London UK\", 500], \"MIT\": [\"Cambridge\", 2000] , \"NTU\": [\"Singapore\", 5000] }\n",
    "\n",
    "for x in some_dict.values():\n",
    "    print(x)"
   ]
  },
  {
   "cell_type": "code",
   "execution_count": 17,
   "metadata": {},
   "outputs": [
    {
     "name": "stdout",
     "output_type": "stream",
     "text": [
      "London UK\t500\t\n",
      "Cambridge\t2000\t\n",
      "Singapore\t5000\t\n"
     ]
    }
   ],
   "source": [
    "# Nested Loop over Values in a Dictionary\n",
    "some_dict = { \"UCL\": [\"London UK\", 500], \"MIT\": [\"Cambridge\", 2000] , \"NTU\": [\"Singapore\", 5000] }\n",
    "\n",
    "for x in some_dict.values():\n",
    "    for y in x:\n",
    "        print(y, end=\"\\t\")\n",
    "    print()"
   ]
  },
  {
   "cell_type": "code",
   "execution_count": 18,
   "metadata": {},
   "outputs": [
    {
     "name": "stdout",
     "output_type": "stream",
     "text": [
      "('UCL', ['London UK', 500])\n",
      "('MIT', ['Cambridge', 2000])\n",
      "('NTU', ['Singapore', 5000])\n"
     ]
    }
   ],
   "source": [
    "# Loop over all Items in a Dictionary\n",
    "some_dict = { \"UCL\": [\"London UK\", 500], \"MIT\": [\"Cambridge\", 2000] , \"NTU\": [\"Singapore\", 5000] }\n",
    "\n",
    "for x in some_dict.items():\n",
    "    print(x)"
   ]
  },
  {
   "cell_type": "code",
   "execution_count": 19,
   "metadata": {},
   "outputs": [
    {
     "name": "stdout",
     "output_type": "stream",
     "text": [
      "Key : UCL \t Value : ['London UK', 500]\n",
      "Key : MIT \t Value : ['Cambridge', 2000]\n",
      "Key : NTU \t Value : ['Singapore', 5000]\n"
     ]
    }
   ],
   "source": [
    "# Loop over all (Key, Value) pairs in a Dictionary\n",
    "some_dict = { \"UCL\": [\"London UK\", 500], \"MIT\": [\"Cambridge\", 2000] , \"NTU\": [\"Singapore\", 5000] }\n",
    "\n",
    "for k, v in some_dict.items():\n",
    "    print(\"Key :\", k, \"\\t Value :\", v)"
   ]
  },
  {
   "cell_type": "markdown",
   "metadata": {},
   "source": [
    "---\n",
    "\n",
    "## Break, Pass, Continue\n",
    "\n",
    "Loops in Python have additional fine-grain control using `break`, `pass` and `continue` commands."
   ]
  },
  {
   "cell_type": "code",
   "execution_count": 20,
   "metadata": {},
   "outputs": [
    {
     "name": "stdout",
     "output_type": "stream",
     "text": [
      "second \t 6\n",
      "fourth \t 6\n",
      "second \t 7\n",
      "fourth \t 7\n",
      "first \t 8\n",
      "second \t 9\n",
      "fourth \t 9\n",
      "second \t 10\n",
      "fourth \t 10\n",
      "last \t 10\n"
     ]
    }
   ],
   "source": [
    "# Break, Pass and Continue\n",
    "x = 5\n",
    "\n",
    "while x <= 9:    \n",
    "    x = x + 1\n",
    "    \n",
    "    if x == 8:\n",
    "        print(\"first \\t\", x)\n",
    "        continue\n",
    "    else:\n",
    "        print(\"second \\t\", x)\n",
    "        pass\n",
    "    \n",
    "    print(\"fourth \\t\", x)\n",
    "\n",
    "print(\"last \\t\", x)"
   ]
  },
  {
   "cell_type": "markdown",
   "metadata": {},
   "source": [
    "---\n",
    "\n",
    "## Else in Loops\n",
    "\n",
    "In case the Loops end *normally*, you may invoke an `else` clause after the loop."
   ]
  },
  {
   "cell_type": "code",
   "execution_count": 21,
   "metadata": {},
   "outputs": [
    {
     "name": "stdout",
     "output_type": "stream",
     "text": [
      "second \t 6\n",
      "fourth \t 6\n",
      "second \t 7\n",
      "fourth \t 7\n",
      "first \t 8\n",
      "second \t 9\n",
      "fourth \t 9\n",
      "second \t 10\n",
      "fourth \t 10\n",
      "fifth \t 10\n",
      "last \t 10\n"
     ]
    }
   ],
   "source": [
    "# Else in a Loop\n",
    "x = 5\n",
    "\n",
    "while x <= 9:    \n",
    "    x = x + 1\n",
    "    \n",
    "    if x == 8:\n",
    "        print(\"first \\t\", x)\n",
    "        continue\n",
    "    else:\n",
    "        print(\"second \\t\", x)\n",
    "        pass\n",
    "    \n",
    "    print(\"fourth \\t\", x)\n",
    "\n",
    "else:\n",
    "    print(\"fifth \\t\", x)\n",
    "    \n",
    "print(\"last \\t\", x)"
   ]
  },
  {
   "cell_type": "markdown",
   "metadata": {},
   "source": [
    "---\n",
    "\n",
    "## List Comprehension\n",
    "\n",
    "No discussion on Python loops is complete without talking about List Comprehension. It's one of the coolest things in Python!"
   ]
  },
  {
   "cell_type": "code",
   "execution_count": 22,
   "metadata": {},
   "outputs": [
    {
     "name": "stdout",
     "output_type": "stream",
     "text": [
      "Squares of [1, 2, 3, 4, 5] are [1, 4, 9, 16, 25]\n"
     ]
    }
   ],
   "source": [
    "# Without List Comprehension\n",
    "num_list = [1, 2, 3, 4, 5]\n",
    "sqr_list = []\n",
    "for i in num_list:\n",
    "    y = i**2\n",
    "    sqr_list.append(y)\n",
    "    \n",
    "print(\"Squares of\", num_list, \"are\", sqr_list)"
   ]
  },
  {
   "cell_type": "code",
   "execution_count": 23,
   "metadata": {},
   "outputs": [
    {
     "name": "stdout",
     "output_type": "stream",
     "text": [
      "Squares of [1, 2, 3, 4, 5] are [1, 4, 9, 16, 25]\n"
     ]
    }
   ],
   "source": [
    "# With List Comprehension\n",
    "num_list = [1, 2, 3, 4, 5]\n",
    "sqr_list = [i**2 for i in num_list]\n",
    "print(\"Squares of\", num_list, \"are\", sqr_list)"
   ]
  },
  {
   "cell_type": "code",
   "execution_count": 24,
   "metadata": {},
   "outputs": [
    {
     "name": "stdout",
     "output_type": "stream",
     "text": [
      "Squares of positive integers upto 50 where the squares are divisible by 3\n",
      "[9, 36, 81, 144, 225, 324, 441, 576, 729, 900, 1089, 1296, 1521, 1764, 2025, 2304]\n"
     ]
    }
   ],
   "source": [
    "# List Comprehension with Condition\n",
    "spc_list = [x**2 for x in range(1,50) if x**2 % 3 == 0]\n",
    "print(\"Squares of positive integers upto 50 where the squares are divisible by 3\")\n",
    "print(spc_list)"
   ]
  },
  {
   "cell_type": "code",
   "execution_count": null,
   "metadata": {},
   "outputs": [],
   "source": []
  }
 ],
 "metadata": {
  "kernelspec": {
   "display_name": "Python 3",
   "language": "python",
   "name": "python3"
  },
  "language_info": {
   "codemirror_mode": {
    "name": "ipython",
    "version": 3
   },
   "file_extension": ".py",
   "mimetype": "text/x-python",
   "name": "python",
   "nbconvert_exporter": "python",
   "pygments_lexer": "ipython3",
   "version": "3.6.6"
  }
 },
 "nbformat": 4,
 "nbformat_minor": 2
}
