{
 "cells": [
  {
   "cell_type": "markdown",
   "metadata": {},
   "source": [
    "# CrashPy\n",
    "\n",
    "**Module 5 : Computing with Python** \n",
    "\n",
    "Python is a fun language to learn, and really easy to pick up even if you are new to programming. In fact, quite often, Python is easier to pick up if you do not have any programming experience whatsoever. Python is high level programming language, targeted at students and professionals from diverse backgrounds.\n",
    "\n",
    "Python has two flavors -- Python 2 and Python 3. This set of examples are in Python 3, written and executed in the beautifully simple IDE Jupyter Notebook. Note that Jupyter has set up a `localhost:8888` server to render the notebook in your computer's browser. It can render anything now -- should be fun!\n",
    "\n",
    "> [Module 1](Module1_DataTypes.ipynb) : Data Types in Python  \n",
    "> [Module 2](Module2_DataStructures.ipynb) : Data Structures in Python   \n",
    "> [Module 3](Module3_ConditionLoop.ipynb) : Conditions and Loops in Python   \n",
    "> [Module 4](Module4_Functions.ipynb) : Functions and Modules in Python   \n",
    "> **Module 5 : Computing with Python**\n",
    "\n",
    "---"
   ]
  },
  {
   "cell_type": "markdown",
   "metadata": {},
   "source": [
    "## Files in Python\n",
    "\n",
    "Handling files is a pre-requisite for a number of Python computing applications. Hence we learn that first."
   ]
  },
  {
   "cell_type": "code",
   "execution_count": 1,
   "metadata": {},
   "outputs": [
    {
     "name": "stdout",
     "output_type": "stream",
     "text": [
      "Name of File :  frost.txt\n",
      "File Closed? :  False\n",
      "Opening Mode :  r\n"
     ]
    }
   ],
   "source": [
    "# Handling Files in Python\n",
    "file = open(\"frost.txt\", \"r\", encoding = \"utf8\")\n",
    "print(\"Name of File : \", file.name)\n",
    "print(\"File Closed? : \", file.closed)\n",
    "print(\"Opening Mode : \", file.mode)\n",
    "file.close()  # closing a file is crucial"
   ]
  },
  {
   "cell_type": "code",
   "execution_count": 2,
   "metadata": {},
   "outputs": [
    {
     "name": "stdout",
     "output_type": "stream",
     "text": [
      "Line  1 \t Two roads diverged in a yellow wood,\n",
      "Line  2 \t And sorry I could not travel both\n",
      "Line  3 \t And be one traveler, long I stood\n",
      "Line  4 \t And looked down one as far as I could\n",
      "Line  5 \t To where it bent in the undergrowth;\n",
      "Line  6 \t \n",
      "Line  7 \t Then took the other, as just as fair,\n",
      "Line  8 \t And having perhaps the better claim\n",
      "Line  9 \t Because it was grassy and wanted wear,\n",
      "Line 10 \t Though as for that the passing there\n",
      "Line 11 \t Had worn them really about the same,\n",
      "Line 12 \t \n",
      "Line 13 \t And both that morning equally lay\n",
      "Line 14 \t In leaves no step had trodden black.\n",
      "Line 15 \t Oh, I kept the first for another day!\n",
      "Line 16 \t Yet knowing how way leads on to way\n",
      "Line 17 \t I doubted if I should ever come back.\n",
      "Line 18 \t \n",
      "Line 19 \t I shall be telling this with a sigh\n",
      "Line 20 \t Somewhere ages and ages hence:\n",
      "Line 21 \t Two roads diverged in a wood, and I,\n",
      "Line 22 \t I took the one less traveled by,\n",
      "Line 23 \t And that has made all the difference.\n"
     ]
    }
   ],
   "source": [
    "# Reading Lines from a File\n",
    "with open(\"frost.txt\", \"r\", encoding = \"utf8\") as file:\n",
    "    line = file.readline()\n",
    "    line_count = 1\n",
    "    while line:\n",
    "        print(\"Line {0:2d} \\t {1:s}\".format(line_count, line.strip()))\n",
    "        line = file.readline()\n",
    "        line_count += 1"
   ]
  },
  {
   "cell_type": "code",
   "execution_count": 3,
   "metadata": {},
   "outputs": [
    {
     "name": "stdout",
     "output_type": "stream",
     "text": [
      "Line  0 \t Two roads diverged in a yellow wood,\n",
      "Line  1 \t And sorry I could not travel both\n",
      "Line  2 \t And be one traveler, long I stood\n",
      "Line  3 \t And looked down one as far as I could\n",
      "Line  4 \t To where it bent in the undergrowth;\n",
      "Line  5 \t \n",
      "Line  6 \t Then took the other, as just as fair,\n",
      "Line  7 \t And having perhaps the better claim\n",
      "Line  8 \t Because it was grassy and wanted wear,\n",
      "Line  9 \t Though as for that the passing there\n",
      "Line 10 \t Had worn them really about the same,\n",
      "Line 11 \t \n",
      "Line 12 \t And both that morning equally lay\n",
      "Line 13 \t In leaves no step had trodden black.\n",
      "Line 14 \t Oh, I kept the first for another day!\n",
      "Line 15 \t Yet knowing how way leads on to way\n",
      "Line 16 \t I doubted if I should ever come back.\n",
      "Line 17 \t \n",
      "Line 18 \t I shall be telling this with a sigh\n",
      "Line 19 \t Somewhere ages and ages hence:\n",
      "Line 20 \t Two roads diverged in a wood, and I,\n",
      "Line 21 \t I took the one less traveled by,\n",
      "Line 22 \t And that has made all the difference.\n"
     ]
    }
   ],
   "source": [
    "# Reading Lines from a File\n",
    "with open(\"frost.txt\", \"r\", encoding = \"utf8\") as file:\n",
    "    for line_count, line in enumerate(file):\n",
    "        print(\"Line {0:2d} \\t {1:s}\".format(line_count, line.strip()))"
   ]
  },
  {
   "cell_type": "code",
   "execution_count": 4,
   "metadata": {},
   "outputs": [
    {
     "name": "stdout",
     "output_type": "stream",
     "text": [
      "Line  0 \tTwo\troads\tdiverged\tin\ta\tyellow\twood,\t\n",
      "Line  1 \tAnd\tsorry\tI\tcould\tnot\ttravel\tboth\t\n",
      "Line  2 \tAnd\tbe\tone\ttraveler,\tlong\tI\tstood\t\n",
      "Line  3 \tAnd\tlooked\tdown\tone\tas\tfar\tas\tI\tcould\t\n",
      "Line  4 \tTo\twhere\tit\tbent\tin\tthe\tundergrowth;\t\n",
      "Line  5 \t\t\n",
      "Line  6 \tThen\ttook\tthe\tother,\tas\tjust\tas\tfair,\t\n",
      "Line  7 \tAnd\thaving\tperhaps\tthe\tbetter\tclaim\t\n",
      "Line  8 \tBecause\tit\twas\tgrassy\tand\twanted\twear,\t\n",
      "Line  9 \tThough\tas\tfor\tthat\tthe\tpassing\tthere\t\n",
      "Line 10 \tHad\tworn\tthem\treally\tabout\tthe\tsame,\t\n",
      "Line 11 \t\t\n",
      "Line 12 \tAnd\tboth\tthat\tmorning\tequally\tlay\t\n",
      "Line 13 \tIn\tleaves\tno\tstep\thad\ttrodden\tblack.\t\n",
      "Line 14 \tOh,\tI\tkept\tthe\tfirst\tfor\tanother\tday!\t\n",
      "Line 15 \tYet\tknowing\thow\tway\tleads\ton\tto\tway\t\n",
      "Line 16 \tI\tdoubted\tif\tI\tshould\tever\tcome\tback.\t\n",
      "Line 17 \t\t\n",
      "Line 18 \tI\tshall\tbe\ttelling\tthis\twith\ta\tsigh\t\n",
      "Line 19 \tSomewhere\tages\tand\tages\thence:\t\n",
      "Line 20 \tTwo\troads\tdiverged\tin\ta\twood,\tand\tI,\t\n",
      "Line 21 \tI\ttook\tthe\tone\tless\ttraveled\tby,\t\n",
      "Line 22 \tAnd\tthat\thas\tmade\tall\tthe\tdifference.\t\n"
     ]
    }
   ],
   "source": [
    "# Reading Words from a File\n",
    "with open(\"frost.txt\", \"r\", encoding = \"utf8\") as file:\n",
    "    for line_count, line in enumerate(file):\n",
    "        print(\"Line {0:2d} \\t\".format(line_count), end = \"\")\n",
    "        for word in line.split(\" \"):\n",
    "            print(word.strip(), end = \"\\t\")\n",
    "        print()"
   ]
  },
  {
   "cell_type": "markdown",
   "metadata": {},
   "source": [
    "---\n",
    "\n",
    "## Numeric Computation\n",
    "\n",
    "`NumPy` is one of the most versatile modules in Python. It helps in Numeric and Scientific computations. This library does not come with the standard Python installation. If you want to use `NumPy`, install the package using your Python package manager of choice. I prefer Conda : `conda install numpy`."
   ]
  },
  {
   "cell_type": "code",
   "execution_count": 5,
   "metadata": {},
   "outputs": [
    {
     "name": "stdout",
     "output_type": "stream",
     "text": [
      "[1 2 3 4 5] is of type int64 and of size 5 with shape (5,)\n"
     ]
    }
   ],
   "source": [
    "# Import NumPy\n",
    "import numpy as np\n",
    "x = np.array([1, 2, 3, 4, 5])\n",
    "print(x, \"is of type\", x.dtype, \"and of size\", x.size, \"with shape\", x.shape)"
   ]
  },
  {
   "cell_type": "code",
   "execution_count": 6,
   "metadata": {},
   "outputs": [
    {
     "name": "stdout",
     "output_type": "stream",
     "text": [
      "[[1 2 3]\n",
      " [4 5 6]] is of type int64 and of size 6 with shape (2, 3)\n"
     ]
    }
   ],
   "source": [
    "# Reshape Matrix\n",
    "x = np.array([1, 2, 3, 4, 5, 6])\n",
    "x = x.reshape(2,3)\n",
    "print(x, \"is of type\", x.dtype, \"and of size\", x.size, \"with shape\", x.shape)"
   ]
  },
  {
   "cell_type": "code",
   "execution_count": 7,
   "metadata": {},
   "outputs": [
    {
     "name": "stdout",
     "output_type": "stream",
     "text": [
      "[[1 2 3]\n",
      " [4 5 6]]\n",
      "\n",
      "[[0.12845241 0.1149613  0.1608227 ]\n",
      " [0.8786693  0.983979   0.47201309]]\n",
      "\n",
      "[[1.12845241 2.1149613  3.1608227 ]\n",
      " [4.8786693  5.983979   6.47201309]]\n"
     ]
    }
   ],
   "source": [
    "# Array Arithmetic\n",
    "x = np.arange(1,7).reshape(2,3)\n",
    "y = np.random.random((2,3))\n",
    "\n",
    "print(x)\n",
    "print()\n",
    "print(y)\n",
    "print()\n",
    "print(x + y)"
   ]
  },
  {
   "cell_type": "code",
   "execution_count": 8,
   "metadata": {},
   "outputs": [
    {
     "name": "stdout",
     "output_type": "stream",
     "text": [
      "[[1 2 3]\n",
      " [4 5 6]]\n",
      "\n",
      "[[0.18208356 0.14928051]\n",
      " [0.01276313 0.11772955]\n",
      " [0.60945408 0.59835635]]\n",
      "\n",
      "[[2.03597204 2.17980865]\n",
      " [4.44887432 4.77590786]]\n"
     ]
    }
   ],
   "source": [
    "# Array Product\n",
    "x = np.arange(1,7).reshape(2,3)\n",
    "y = np.random.random((3,2))\n",
    "\n",
    "print(x)\n",
    "print()\n",
    "print(y)\n",
    "print()\n",
    "print(x.dot(y))"
   ]
  },
  {
   "cell_type": "markdown",
   "metadata": {},
   "source": [
    "---\n",
    "\n",
    "## Symbolic Computation\n",
    "\n",
    "`SymPy` is the Python library for Symbolic Computation. You may install the `SymPy` module using Conda : `conda install sympy`."
   ]
  },
  {
   "cell_type": "code",
   "execution_count": 9,
   "metadata": {},
   "outputs": [
    {
     "ename": "ModuleNotFoundError",
     "evalue": "No module named 'sympy'",
     "output_type": "error",
     "traceback": [
      "\u001b[0;31m---------------------------------------------------------------------------\u001b[0m",
      "\u001b[0;31mModuleNotFoundError\u001b[0m                       Traceback (most recent call last)",
      "\u001b[0;32m<ipython-input-9-b2cc2a2029bc>\u001b[0m in \u001b[0;36m<module>\u001b[0;34m\u001b[0m\n\u001b[1;32m      1\u001b[0m \u001b[0;31m# Import SymPy\u001b[0m\u001b[0;34m\u001b[0m\u001b[0;34m\u001b[0m\u001b[0m\n\u001b[0;32m----> 2\u001b[0;31m \u001b[0;32mimport\u001b[0m \u001b[0msympy\u001b[0m \u001b[0;32mas\u001b[0m \u001b[0msp\u001b[0m\u001b[0;34m\u001b[0m\u001b[0m\n\u001b[0m\u001b[1;32m      3\u001b[0m \u001b[0mx\u001b[0m\u001b[0;34m,\u001b[0m \u001b[0my\u001b[0m\u001b[0;34m,\u001b[0m \u001b[0mz\u001b[0m \u001b[0;34m=\u001b[0m \u001b[0msymbols\u001b[0m\u001b[0;34m(\u001b[0m\u001b[0;34m'x y z'\u001b[0m\u001b[0;34m)\u001b[0m\u001b[0;34m\u001b[0m\u001b[0m\n\u001b[1;32m      4\u001b[0m \u001b[0msym_exp\u001b[0m \u001b[0;34m=\u001b[0m \u001b[0msp\u001b[0m\u001b[0;34m.\u001b[0m\u001b[0mexp\u001b[0m\u001b[0;34m(\u001b[0m\u001b[0mx\u001b[0m\u001b[0;34m*\u001b[0m\u001b[0my\u001b[0m\u001b[0;34m*\u001b[0m\u001b[0mz\u001b[0m\u001b[0;34m)\u001b[0m\u001b[0;34m\u001b[0m\u001b[0m\n\u001b[1;32m      5\u001b[0m \u001b[0mprint\u001b[0m\u001b[0;34m(\u001b[0m\u001b[0msym_exp\u001b[0m\u001b[0;34m,\u001b[0m \u001b[0;34m\"is of type\"\u001b[0m\u001b[0;34m,\u001b[0m \u001b[0mtype\u001b[0m\u001b[0;34m(\u001b[0m\u001b[0msym_exp\u001b[0m\u001b[0;34m)\u001b[0m\u001b[0;34m)\u001b[0m\u001b[0;34m\u001b[0m\u001b[0m\n",
      "\u001b[0;31mModuleNotFoundError\u001b[0m: No module named 'sympy'"
     ]
    }
   ],
   "source": [
    "# Import SymPy\n",
    "import sympy as sp\n",
    "x, y, z = symbols('x y z')\n",
    "sym_exp = sp.exp(x*y*z)\n",
    "print(sym_exp, \"is of type\", type(sym_exp))"
   ]
  },
  {
   "cell_type": "code",
   "execution_count": null,
   "metadata": {},
   "outputs": [],
   "source": [
    "# Symbolic Derivative\n",
    "x, y, z = symbols('x y z')\n",
    "sym_exp = sp.exp(x*y*z)\n",
    "dif_exp = diff(sym_exp, x, y, 2, z, 4)\n",
    "print(\"The derivative of\", sym_exp, \"is\", dif_exp)"
   ]
  },
  {
   "cell_type": "markdown",
   "metadata": {},
   "source": [
    "---\n",
    "\n",
    "## Data Analysis\n",
    "\n",
    "Python is currently the language of choice for Data Scientists. Data Analysis in Python requires `NumPy`, `SciPy`, `Pandas`, `MatPlotLib`, and `SeaBorn`."
   ]
  },
  {
   "cell_type": "code",
   "execution_count": null,
   "metadata": {},
   "outputs": [],
   "source": []
  },
  {
   "cell_type": "code",
   "execution_count": null,
   "metadata": {},
   "outputs": [],
   "source": []
  }
 ],
 "metadata": {
  "kernelspec": {
   "display_name": "Python 3",
   "language": "python",
   "name": "python3"
  },
  "language_info": {
   "codemirror_mode": {
    "name": "ipython",
    "version": 3
   },
   "file_extension": ".py",
   "mimetype": "text/x-python",
   "name": "python",
   "nbconvert_exporter": "python",
   "pygments_lexer": "ipython3",
   "version": "3.6.6"
  }
 },
 "nbformat": 4,
 "nbformat_minor": 2
}
