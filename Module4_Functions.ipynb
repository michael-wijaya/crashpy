{
 "cells": [
  {
   "cell_type": "markdown",
   "metadata": {},
   "source": [
    "# CrashPy\n",
    "\n",
    "**Module 4 : Functions and Modules in Python** \n",
    "\n",
    "Python is a fun language to learn, and really easy to pick up even if you are new to programming. In fact, quite often, Python is easier to pick up if you do not have any programming experience whatsoever. Python is high level programming language, targeted at students and professionals from diverse backgrounds.\n",
    "\n",
    "Python has two flavors -- Python 2 and Python 3. This set of examples are in Python 3, written and executed in the beautifully simple IDE Jupyter Notebook. Note that Jupyter has set up a `localhost:8888` server to render the notebook in your computer's browser. It can render anything now -- should be fun!\n",
    "\n",
    "> [Module 1](Module1_DataTypes.ipynb) : Data Types in Python  \n",
    "> [Module 2](Module2_DataStructures.ipynb) : Data Structures in Python   \n",
    "> [Module 3](Module3_ConditionLoop.ipynb) : Conditions and Loops in Python   \n",
    "> **Module 4 : Functions and Modules in Python**   \n",
    "> [Module 5](Module5_PythonComputing.ipynb) : Computing with Python\n",
    "\n",
    "---"
   ]
  },
  {
   "cell_type": "markdown",
   "metadata": {},
   "source": [
    "## Input and Output\n",
    "\n",
    "The Python functions of prime importance are `input()` and `print()` -- essential for any User Interface."
   ]
  },
  {
   "cell_type": "code",
   "execution_count": 1,
   "metadata": {},
   "outputs": [
    {
     "name": "stdout",
     "output_type": "stream",
     "text": [
      "Enter your name, please : Sourav\n",
      "Sourav is of type <class 'str'>\n"
     ]
    }
   ],
   "source": [
    "# User Input in Python\n",
    "uip = input(\"Enter your name, please : \")\n",
    "print(uip, \"is of type\", type(uip))"
   ]
  },
  {
   "cell_type": "code",
   "execution_count": 2,
   "metadata": {},
   "outputs": [
    {
     "name": "stdout",
     "output_type": "stream",
     "text": [
      "Enter a number, please : 23\n",
      "23 is of type <class 'str'>\n"
     ]
    }
   ],
   "source": [
    "# User Input in Python\n",
    "uip = input(\"Enter a number, please : \")\n",
    "print(uip, \"is of type\", type(uip))"
   ]
  },
  {
   "cell_type": "markdown",
   "metadata": {},
   "source": [
    "Note that any user input taken using `input()` is a Python String.   \n",
    "You'll have to convert the input to the desired format, if so required."
   ]
  },
  {
   "cell_type": "code",
   "execution_count": 3,
   "metadata": {},
   "outputs": [
    {
     "name": "stdout",
     "output_type": "stream",
     "text": [
      "Enter a number, please : 23\n",
      "23 is of type <class 'int'>\n"
     ]
    }
   ],
   "source": [
    "# User Input to Integer\n",
    "uip = input(\"Enter a number, please : \")\n",
    "x = int(uip)\n",
    "print(x, \"is of type\", type(x))"
   ]
  },
  {
   "cell_type": "code",
   "execution_count": 4,
   "metadata": {},
   "outputs": [
    {
     "name": "stdout",
     "output_type": "stream",
     "text": [
      "Enter a list of numbers, please : [1, 2, 3, 4, 5]\n",
      "['[', '1', ',', ' ', '2', ',', ' ', '3', ',', ' ', '4', ',', ' ', '5', ']'] is of type <class 'list'>\n",
      "\n",
      "[[[[[[[[[[\n",
      "1111111111\n",
      ",,,,,,,,,,\n",
      "          \n",
      "2222222222\n",
      ",,,,,,,,,,\n",
      "          \n",
      "3333333333\n",
      ",,,,,,,,,,\n",
      "          \n",
      "4444444444\n",
      ",,,,,,,,,,\n",
      "          \n",
      "5555555555\n",
      "]]]]]]]]]]\n"
     ]
    }
   ],
   "source": [
    "# User Input to List\n",
    "uip = input(\"Enter a list of numbers, please : \")\n",
    "x = list(uip)\n",
    "print(x, \"is of type\", type(x))\n",
    "\n",
    "print()\n",
    "for y in x:\n",
    "    print(10*y)"
   ]
  },
  {
   "cell_type": "markdown",
   "metadata": {},
   "source": [
    "As you see above, not all conversions from a String work well.   \n",
    "In such cases, Python uses a magic function called `eval()`."
   ]
  },
  {
   "cell_type": "code",
   "execution_count": 5,
   "metadata": {},
   "outputs": [
    {
     "name": "stdout",
     "output_type": "stream",
     "text": [
      "Enter a list of numbers, please : [1, 2, 3, 4, 5]\n",
      "[1, 2, 3, 4, 5] is of type <class 'list'>\n",
      "\n",
      "10\n",
      "20\n",
      "30\n",
      "40\n",
      "50\n"
     ]
    }
   ],
   "source": [
    "# User Input to List\n",
    "uip = input(\"Enter a list of numbers, please : \")\n",
    "x = eval(uip)\n",
    "print(x, \"is of type\", type(x))\n",
    "\n",
    "print()\n",
    "for y in x:\n",
    "    print(10*y)"
   ]
  },
  {
   "cell_type": "markdown",
   "metadata": {},
   "source": [
    "You've seen simple `print()` before. There are multiple ways of printing an output in Python."
   ]
  },
  {
   "cell_type": "code",
   "execution_count": 6,
   "metadata": {},
   "outputs": [
    {
     "name": "stdout",
     "output_type": "stream",
     "text": [
      "Hello folks! It's almost 8 pm.\n",
      "Hello folks! It's almost 8 pm.\n",
      "Hello folks! It's almost 8 pm.\n",
      "Hello folks! It's almost 8 pm.\n"
     ]
    }
   ],
   "source": [
    "# Print in Python\n",
    "print(\"Hello folks! It's almost\", 8, \"pm.\")\n",
    "\n",
    "print(\"Hello folks!\", end=\" \")\n",
    "print(\"It's almost\", end=\" \")\n",
    "print(8, end=\" \")\n",
    "print(\"pm.\")\n",
    "\n",
    "print(\"Hello folks! It's almost {0} pm.\".format(8))\n",
    "\n",
    "print(\"Hello folks! It's almost {a} pm.\".format(a = 8))"
   ]
  },
  {
   "cell_type": "code",
   "execution_count": 7,
   "metadata": {},
   "outputs": [
    {
     "name": "stdout",
     "output_type": "stream",
     "text": [
      "Item Code:  1,  Price: 24.50\n",
      "Item Code:  2,  Price: 34.00\n",
      "Item Code:  3,  Price: 105.00\n",
      "Item Code:  4,  Price: 234.50\n",
      "Item Code:  5,  Price: 10.00\n"
     ]
    }
   ],
   "source": [
    "# Complex Format for Print\n",
    "price_list = {1: 24.5, 2: 34, 3: 105, 4: 234.5, 5: 10}\n",
    "\n",
    "for item, price in price_list.items():\n",
    "    print(\"Item Code: {i:2d},  Price: {p:4.2f}\".format(i = item, p = price))"
   ]
  },
  {
   "cell_type": "markdown",
   "metadata": {},
   "source": [
    "#### Quick Tasks\n",
    "\n",
    "- Create a Temperature converter with user input format `32 C to F` or `98.6 F to C`.   "
   ]
  },
  {
   "cell_type": "code",
   "execution_count": null,
   "metadata": {},
   "outputs": [],
   "source": []
  },
  {
   "cell_type": "markdown",
   "metadata": {},
   "source": [
    "---\n",
    "\n",
    "## Function Definition\n",
    "\n",
    "Functions may be user defined in Python, to perform repetitive jobs, and to modularize the code. The following syntax for defining a function is read as \"Function named FUNCTION_NAME takes N input arguments ARG_1, ARG_2, ..., ARG_N and after executing the CODE BLOCK, it returns SOMETHING\".\n",
    "\n",
    "> ```python\n",
    "> def FUNCTION_NAME( ARG_1, ARG_2, ..., ARG_N ):\n",
    ">     '''documentation of the function'''\n",
    ">     CODE BLOCK\n",
    ">     return SOMETHING\n",
    "> ```\n",
    "\n",
    "The *documentation of the function* or the `docstring` shows up when someone calls `help()` on the function. Write it as neat and complete as possible."
   ]
  },
  {
   "cell_type": "code",
   "execution_count": 8,
   "metadata": {},
   "outputs": [],
   "source": [
    "# Define a Function\n",
    "def print_price_list(input_price_list):\n",
    "    '''prints items and prices from a list'''\n",
    "    for item, price in input_price_list.items():\n",
    "        print(\"Item Code: {i:2d},  Price: {p:4.2f}\".format(i = item, p = price))"
   ]
  },
  {
   "cell_type": "markdown",
   "metadata": {},
   "source": [
    "Once the function is defined, you may call the function by passing specific values for the arguments."
   ]
  },
  {
   "cell_type": "code",
   "execution_count": 9,
   "metadata": {},
   "outputs": [
    {
     "name": "stdout",
     "output_type": "stream",
     "text": [
      "Item Code:  1,  Price: 24.50\n",
      "Item Code:  2,  Price: 34.00\n",
      "Item Code:  3,  Price: 105.00\n",
      "Item Code:  4,  Price: 234.50\n",
      "Item Code:  5,  Price: 10.00\n"
     ]
    }
   ],
   "source": [
    "# Call the Function\n",
    "price_list = {1: 24.5, 2: 34, 3: 105, 4: 234.5, 5: 10}\n",
    "print_price_list(input_price_list = price_list)"
   ]
  },
  {
   "cell_type": "markdown",
   "metadata": {},
   "source": [
    "The function may also `return` a value (or more). In that case, we should catch the output of a function."
   ]
  },
  {
   "cell_type": "code",
   "execution_count": 10,
   "metadata": {},
   "outputs": [
    {
     "data": {
      "text/plain": [
       "9"
      ]
     },
     "execution_count": 10,
     "metadata": {},
     "output_type": "execute_result"
    }
   ],
   "source": [
    "# Function that Returns\n",
    "def square(x):\n",
    "    '''returns the square of a number'''\n",
    "    return x**2\n",
    "\n",
    "square(3)"
   ]
  },
  {
   "cell_type": "code",
   "execution_count": 11,
   "metadata": {},
   "outputs": [
    {
     "name": "stdout",
     "output_type": "stream",
     "text": [
      "Square of 1 is 1\n",
      "Square of 2 is 4\n",
      "Square of 3 is 9\n",
      "Square of 4 is 16\n",
      "Square of 5 is 25\n"
     ]
    }
   ],
   "source": [
    "# Function that Returns\n",
    "def square(x):\n",
    "    '''returns the square of a number'''\n",
    "    return x**2\n",
    "\n",
    "num_list = [1, 2, 3, 4, 5]\n",
    "for i in num_list:\n",
    "    print(\"Square of {0} is {1}\".format(i, square(i)))"
   ]
  },
  {
   "cell_type": "code",
   "execution_count": 12,
   "metadata": {},
   "outputs": [
    {
     "name": "stdout",
     "output_type": "stream",
     "text": [
      "Squares of [1, 2, 3, 4, 5] are [1, 4, 9, 16, 25]\n"
     ]
    }
   ],
   "source": [
    "# Function that Returns\n",
    "def square(x):\n",
    "    '''returns the square of a number'''\n",
    "    return x**2\n",
    "\n",
    "num_list = [1, 2, 3, 4, 5]\n",
    "sqr_list = []\n",
    "for i in num_list:\n",
    "    y = square(i)\n",
    "    sqr_list.append(y)\n",
    "    \n",
    "print(\"Squares of\", num_list, \"are\", sqr_list)"
   ]
  },
  {
   "cell_type": "code",
   "execution_count": 13,
   "metadata": {},
   "outputs": [
    {
     "data": {
      "text/plain": [
       "(5, 1)"
      ]
     },
     "execution_count": 13,
     "metadata": {},
     "output_type": "execute_result"
    }
   ],
   "source": [
    "# Function that Returns multiple values\n",
    "def maxmin(n_list):\n",
    "    '''returns maximum and minimum of a list of numbers'''\n",
    "    list_max = max(n_list)\n",
    "    list_min = min(n_list)\n",
    "    return list_max, list_min\n",
    "\n",
    "maxmin([1, 2, 3, 4, 5])"
   ]
  },
  {
   "cell_type": "code",
   "execution_count": 14,
   "metadata": {},
   "outputs": [
    {
     "name": "stdout",
     "output_type": "stream",
     "text": [
      "List : [1, 2, 3, 4, 5]\n",
      "Max = 5 ,  Min = 1\n"
     ]
    }
   ],
   "source": [
    "# Function that Returns multiple values\n",
    "def maxmin(n_list):\n",
    "    '''returns maximum and minimum of a list of numbers'''\n",
    "    list_max = max(n_list)\n",
    "    list_min = min(n_list)\n",
    "    return list_max, list_min\n",
    "\n",
    "num_list = [1, 2, 3, 4, 5]\n",
    "num_max, num_min = maxmin(num_list)    \n",
    "print(\"List :\", num_list)\n",
    "print(\"Max =\", num_max, \",  Min =\", num_min)"
   ]
  },
  {
   "cell_type": "markdown",
   "metadata": {},
   "source": [
    "### Default Arguments\n",
    "\n",
    "In case one (or few) argument(s) of a function is common in most cases, one may specify those values by default."
   ]
  },
  {
   "cell_type": "code",
   "execution_count": 15,
   "metadata": {},
   "outputs": [
    {
     "name": "stdout",
     "output_type": "stream",
     "text": [
      "LOG: Hello there!\n"
     ]
    }
   ],
   "source": [
    "# Default Arguments\n",
    "def log(message = None):\n",
    "    \"logs a message, if passed\"\n",
    "    if message:\n",
    "        print(\"LOG: {0}\".format(message))\n",
    "        \n",
    "log(\"Hello there!\")"
   ]
  },
  {
   "cell_type": "code",
   "execution_count": 16,
   "metadata": {},
   "outputs": [
    {
     "name": "stdout",
     "output_type": "stream",
     "text": [
      "Hello Sourav! It's wonderful to meet you.\n"
     ]
    }
   ],
   "source": [
    "# Default Arguments\n",
    "def greet(name = None):\n",
    "    \"greets a user, if name known\"\n",
    "    if name:\n",
    "        print(\"Hello {0}! It's wonderful to meet you.\".format(name))\n",
    "        \n",
    "greet(\"Sourav\")"
   ]
  },
  {
   "cell_type": "markdown",
   "metadata": {},
   "source": [
    "### Arbitrary Number of Arguments\n",
    "\n",
    "In case a function can take an arbitrary number of arguments, one may use the `*args` notation while defining the function."
   ]
  },
  {
   "cell_type": "code",
   "execution_count": 17,
   "metadata": {},
   "outputs": [
    {
     "data": {
      "text/plain": [
       "10"
      ]
     },
     "execution_count": 17,
     "metadata": {},
     "output_type": "execute_result"
    }
   ],
   "source": [
    "# Arbitrary Number of Arguments\n",
    "def add_n(first_num, *args):\n",
    "    \"returns the sum of one or more numbers\"\n",
    "    num_list = [first_num] + [num for num in args]\n",
    "    return sum(num_list)\n",
    "\n",
    "add_n(1, 2, 3, 4)"
   ]
  },
  {
   "cell_type": "code",
   "execution_count": 18,
   "metadata": {},
   "outputs": [
    {
     "data": {
      "text/plain": [
       "280"
      ]
     },
     "execution_count": 18,
     "metadata": {},
     "output_type": "execute_result"
    }
   ],
   "source": [
    "# Arbitrary Number of Arguments\n",
    "def mult_n(*args):\n",
    "    \"returns the product of one or more numbers\"\n",
    "    result = 1\n",
    "    for num in args:\n",
    "        result *= num\n",
    "    return(result)\n",
    "\n",
    "mult_n(4, 5, 7, 2)"
   ]
  },
  {
   "cell_type": "markdown",
   "metadata": {},
   "source": [
    "---\n",
    "\n",
    "## Lambda Functions\n",
    "\n",
    "These are small functions which are not defined with any specific name. They carry a single expression whose result is returned. Lambda functions comes very handy when operating with lists. These functions are defined by the keyword `lambda` followed by the variables, a `:` and the expression to execute."
   ]
  },
  {
   "cell_type": "code",
   "execution_count": 19,
   "metadata": {},
   "outputs": [
    {
     "name": "stdout",
     "output_type": "stream",
     "text": [
      "25\n"
     ]
    }
   ],
   "source": [
    "# Lambda Functions\n",
    "sqr = lambda x: x * x\n",
    "print(sqr(5))"
   ]
  },
  {
   "cell_type": "markdown",
   "metadata": {},
   "source": [
    "Lambda functions and `map()` can do wonders for a Python list in general."
   ]
  },
  {
   "cell_type": "code",
   "execution_count": 20,
   "metadata": {},
   "outputs": [
    {
     "name": "stdout",
     "output_type": "stream",
     "text": [
      "Squares of [1, 2, 3, 4, 5] are [1, 4, 9, 16, 25]\n"
     ]
    }
   ],
   "source": [
    "# Lambda and Map on a List\n",
    "num_list = [1, 2, 3, 4, 5]\n",
    "sqr_list = list(map(lambda x: x*x, num_list))\n",
    "print(\"Squares of\", num_list, \"are\", sqr_list)"
   ]
  },
  {
   "cell_type": "markdown",
   "metadata": {},
   "source": [
    "Lambda functions are quite handy in composing other functions as well."
   ]
  },
  {
   "cell_type": "code",
   "execution_count": 21,
   "metadata": {},
   "outputs": [
    {
     "data": {
      "text/plain": [
       "18"
      ]
     },
     "execution_count": 21,
     "metadata": {},
     "output_type": "execute_result"
    }
   ],
   "source": [
    "# Composing Functions\n",
    "def double(x):\n",
    "    return 2*x\n",
    "\n",
    "def square(x):\n",
    "    return x*x\n",
    "\n",
    "def f_of_g(f,g):\n",
    "    \"compose two functions\"\n",
    "    return lambda x: f(g(x))\n",
    "\n",
    "doublesquare = f_of_g(double, square)\n",
    "doublesquare(3)"
   ]
  },
  {
   "cell_type": "markdown",
   "metadata": {},
   "source": [
    "---\n",
    "\n",
    "## Importing Modules\n",
    "\n",
    "In case Python does not have the capacity of solving your problem, try to `import` external modules or libraries. Python is supported by a vibrant community of developers and users, and hence there are several useful modules or libraries available in Python. To get a list of useful modules, check the following link.    \n",
    "\n",
    "Useful Python Modules from Python Wiki : https://wiki.python.org/moin/UsefulModules"
   ]
  },
  {
   "cell_type": "code",
   "execution_count": 22,
   "metadata": {},
   "outputs": [
    {
     "data": {
      "text/plain": [
       "2.23606797749979"
      ]
     },
     "execution_count": 22,
     "metadata": {},
     "output_type": "execute_result"
    }
   ],
   "source": [
    "# Import Math Module\n",
    "import math\n",
    "math.sqrt(5)"
   ]
  },
  {
   "cell_type": "code",
   "execution_count": 23,
   "metadata": {},
   "outputs": [
    {
     "data": {
      "text/plain": [
       "2.23606797749979"
      ]
     },
     "execution_count": 23,
     "metadata": {},
     "output_type": "execute_result"
    }
   ],
   "source": [
    "# Import Math Module\n",
    "from math import *\n",
    "sqrt(5)"
   ]
  },
  {
   "cell_type": "code",
   "execution_count": 24,
   "metadata": {},
   "outputs": [
    {
     "data": {
      "text/plain": [
       "2.23606797749979"
      ]
     },
     "execution_count": 24,
     "metadata": {},
     "output_type": "execute_result"
    }
   ],
   "source": [
    "# Import Math Functions\n",
    "from math import sqrt\n",
    "sqrt(5)"
   ]
  },
  {
   "cell_type": "markdown",
   "metadata": {},
   "source": [
    "### (not so) Quick Tasks\n",
    "\n",
    "- Build the Bulls and Cows (https://en.wikipedia.org/wiki/Bulls_and_Cows) using appropriate Python functions.   "
   ]
  },
  {
   "cell_type": "code",
   "execution_count": null,
   "metadata": {},
   "outputs": [],
   "source": []
  },
  {
   "cell_type": "code",
   "execution_count": null,
   "metadata": {},
   "outputs": [],
   "source": []
  }
 ],
 "metadata": {
  "kernelspec": {
   "display_name": "Python 3",
   "language": "python",
   "name": "python3"
  },
  "language_info": {
   "codemirror_mode": {
    "name": "ipython",
    "version": 3
   },
   "file_extension": ".py",
   "mimetype": "text/x-python",
   "name": "python",
   "nbconvert_exporter": "python",
   "pygments_lexer": "ipython3",
   "version": "3.6.6"
  }
 },
 "nbformat": 4,
 "nbformat_minor": 2
}
