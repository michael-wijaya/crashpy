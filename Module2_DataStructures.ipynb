{
 "cells": [
  {
   "cell_type": "markdown",
   "metadata": {},
   "source": [
    "# Python@NTU\n",
    "\n",
    "**Module 2 : Data Structures in Python** \n",
    "\n",
    "Python is a fun language to learn, and really easy to pick up even if you are new to programming. In fact, quite often, Python is easier to pick up if you do not have any programming experience whatsoever. Python is high level programming language, targeted at students and professionals from diverse backgrounds.\n",
    "\n",
    "Python has two flavors -- Python 2 and Python 3. This set of examples are in Python 3, written and executed in the beautifully simple IDE Jupyter Notebook. Note that Jupyter has set up a `localhost:8888` server to render the notebook in your computer's browser. It can render anything now -- should be fun!\n",
    "\n",
    "\n",
    "> [Module 1](Module1_DataTypes.ipynb) : Data Types in Python  \n",
    "> **Module 2 : Data Structures in Python**   \n",
    "> [Module 3](Module3_ConditionLoop.ipynb) : Conditions and Loops in Python   \n",
    "> [Module 4](Module4_Functions.ipynb) : Functions and Modules in Python   \n",
    "> [Module 5](Module5_PythonComputing.ipynb) : Computing with Python\n",
    "\n",
    "---"
   ]
  },
  {
   "cell_type": "markdown",
   "metadata": {},
   "source": [
    "## Python Lists\n",
    "\n",
    "List is one of the most versatile Data Structures in Python."
   ]
  },
  {
   "cell_type": "code",
   "execution_count": 1,
   "metadata": {},
   "outputs": [
    {
     "name": "stdout",
     "output_type": "stream",
     "text": [
      "[10, 20, 30, 40, 50] is of type <class 'list'>\n"
     ]
    }
   ],
   "source": [
    "# List in Python\n",
    "x = [10, 20, 30, 40, 50]\n",
    "print(x, \"is of type\", type(x))"
   ]
  },
  {
   "cell_type": "code",
   "execution_count": 2,
   "metadata": {},
   "outputs": [
    {
     "data": {
      "text/plain": [
       "10"
      ]
     },
     "execution_count": 2,
     "metadata": {},
     "output_type": "execute_result"
    }
   ],
   "source": [
    "# Indexed Item\n",
    "x[0]"
   ]
  },
  {
   "cell_type": "code",
   "execution_count": 3,
   "metadata": {},
   "outputs": [
    {
     "data": {
      "text/plain": [
       "50"
      ]
     },
     "execution_count": 3,
     "metadata": {},
     "output_type": "execute_result"
    }
   ],
   "source": [
    "# Negative Indexing\n",
    "x[-1]"
   ]
  },
  {
   "cell_type": "code",
   "execution_count": 5,
   "metadata": {},
   "outputs": [
    {
     "data": {
      "text/plain": [
       "[20, 30]"
      ]
     },
     "execution_count": 5,
     "metadata": {},
     "output_type": "execute_result"
    }
   ],
   "source": [
    "# Slicing a List\n",
    "x[1:3]"
   ]
  },
  {
   "cell_type": "code",
   "execution_count": 6,
   "metadata": {},
   "outputs": [
    {
     "data": {
      "text/plain": [
       "[20, 30, 40, 50]"
      ]
     },
     "execution_count": 6,
     "metadata": {},
     "output_type": "execute_result"
    }
   ],
   "source": [
    "# Tail of a List\n",
    "x[1:]"
   ]
  },
  {
   "cell_type": "code",
   "execution_count": 7,
   "metadata": {},
   "outputs": [
    {
     "data": {
      "text/plain": [
       "[10, 20, 30]"
      ]
     },
     "execution_count": 7,
     "metadata": {},
     "output_type": "execute_result"
    }
   ],
   "source": [
    "# Head of a List\n",
    "x[:-2]"
   ]
  },
  {
   "cell_type": "code",
   "execution_count": 6,
   "metadata": {},
   "outputs": [
    {
     "data": {
      "text/plain": [
       "[20, 40]"
      ]
     },
     "execution_count": 6,
     "metadata": {},
     "output_type": "execute_result"
    }
   ],
   "source": [
    "# Combed Slicing\n",
    "x[1::2]"
   ]
  },
  {
   "cell_type": "code",
   "execution_count": 7,
   "metadata": {},
   "outputs": [
    {
     "data": {
      "text/plain": [
       "[10, 30]"
      ]
     },
     "execution_count": 7,
     "metadata": {},
     "output_type": "execute_result"
    }
   ],
   "source": [
    "# Combed Slicing\n",
    "x[:-1:2]"
   ]
  },
  {
   "cell_type": "code",
   "execution_count": 8,
   "metadata": {},
   "outputs": [
    {
     "name": "stdout",
     "output_type": "stream",
     "text": [
      "['c', 'd', 'e']\n"
     ]
    }
   ],
   "source": [
    "# List of Characters\n",
    "x = [\"a\", \"b\", \"c\", \"d\", \"e\"]\n",
    "print(x[2:])"
   ]
  },
  {
   "cell_type": "code",
   "execution_count": 9,
   "metadata": {},
   "outputs": [
    {
     "name": "stdout",
     "output_type": "stream",
     "text": [
      "[30, 'd', 50]\n"
     ]
    }
   ],
   "source": [
    "# Mixed Lists\n",
    "x = [10, \"b\", 30, \"d\", 50]\n",
    "print(x[2:])"
   ]
  },
  {
   "cell_type": "code",
   "execution_count": 12,
   "metadata": {},
   "outputs": [
    {
     "name": "stdout",
     "output_type": "stream",
     "text": [
      "[30, ['a', 'b', 'c', 'd', 'e']]\n"
     ]
    }
   ],
   "source": [
    "# Lists within Lists (Nested Lists)\n",
    "x = [10, 20, 30, [\"a\", \"b\", \"c\", \"d\", \"e\"]]\n",
    "print(x[2:])"
   ]
  },
  {
   "cell_type": "code",
   "execution_count": 13,
   "metadata": {},
   "outputs": [
    {
     "name": "stdout",
     "output_type": "stream",
     "text": [
      "['c', 'd', 'e']\n"
     ]
    }
   ],
   "source": [
    "# Double Indexing in Nested Lists\n",
    "x = [10, 20, 30, [\"a\", \"b\", \"c\", \"d\", \"e\"]]\n",
    "print(x[3][2:])"
   ]
  },
  {
   "cell_type": "code",
   "execution_count": 15,
   "metadata": {},
   "outputs": [
    {
     "name": "stdout",
     "output_type": "stream",
     "text": [
      "7\n"
     ]
    }
   ],
   "source": [
    "# 2D Array with Nested Lists\n",
    "x = [[1, 2, 3, 4, 5],\n",
    "     [6, 7, 8, 9, 0],\n",
    "     [0, 9, 8, 7, 6],\n",
    "     [5, 4, 3, 2, 1]]\n",
    "print(x[2][3])"
   ]
  },
  {
   "cell_type": "code",
   "execution_count": 16,
   "metadata": {},
   "outputs": [
    {
     "name": "stdout",
     "output_type": "stream",
     "text": [
      "Concatenation: [10, 20, 30, 40, 50, 'a', 'b', 'c', 'd', 'e']\n",
      "List of Lists: [[10, 20, 30, 40, 50], ['a', 'b', 'c', 'd', 'e']]\n",
      "List of Lists: [[10, 20, 30, 40, 50], ['a', 'b', 'c', 'd', 'e']]\n"
     ]
    }
   ],
   "source": [
    "# List Operations\n",
    "x = [10, 20, 30, 40, 50]\n",
    "y = [\"a\", \"b\", \"c\", \"d\", \"e\"]\n",
    "print(\"Concatenation:\", x + y)\n",
    "print(\"List of Lists:\", [x] + [y])\n",
    "print(\"List of Lists:\", [x, y])"
   ]
  },
  {
   "cell_type": "code",
   "execution_count": 29,
   "metadata": {},
   "outputs": [
    {
     "name": "stdout",
     "output_type": "stream",
     "text": [
      "Len: 5 5\n",
      "Max: 50 e\n",
      "Min: 10 a\n"
     ]
    }
   ],
   "source": [
    "# List Functions\n",
    "x = [10, 20, 30, 40, 50]\n",
    "y = [\"a\", \"b\", \"c\", \"d\", \"e\"]\n",
    "print(\"Len:\", len(x), len(y))\n",
    "print(\"Max:\", max(x), max(y))\n",
    "print(\"Min:\", min(x), min(y))"
   ]
  },
  {
   "cell_type": "code",
   "execution_count": 17,
   "metadata": {},
   "outputs": [
    {
     "name": "stdout",
     "output_type": "stream",
     "text": [
      "Max: python\n",
      "Min: It's\n",
      "Max Len: learning\n",
      "Min Len: at\n"
     ]
    }
   ],
   "source": [
    "# List Functions\n",
    "mlist = [\"It's\", \"fun\", \"learning\", \"python\", \"at\", \"NTU\"]\n",
    "print(\"Max:\", max(mlist))\n",
    "print(\"Min:\", min(mlist))\n",
    "print(\"Max Len:\", max(mlist, key=len))\n",
    "print(\"Min Len:\", min(mlist, key=len))"
   ]
  },
  {
   "cell_type": "code",
   "execution_count": 18,
   "metadata": {},
   "outputs": [
    {
     "name": "stdout",
     "output_type": "stream",
     "text": [
      "[10, 20, 30, 40, 50, 100]\n"
     ]
    }
   ],
   "source": [
    "# Append to a List\n",
    "x = [10, 20, 30, 40, 50]\n",
    "x.append(100)\n",
    "print(x)"
   ]
  },
  {
   "cell_type": "code",
   "execution_count": 40,
   "metadata": {},
   "outputs": [
    {
     "name": "stdout",
     "output_type": "stream",
     "text": [
      "[10, 20, 30, 100, 40, 50]\n"
     ]
    }
   ],
   "source": [
    "# Insert into a List\n",
    "x = [10, 20, 30, 40, 50]\n",
    "x.insert(3, 100)\n",
    "print(x)"
   ]
  },
  {
   "cell_type": "code",
   "execution_count": 42,
   "metadata": {},
   "outputs": [
    {
     "name": "stdout",
     "output_type": "stream",
     "text": [
      "[10, 20, 30, 40, 50, [100, 200, 300]]\n"
     ]
    }
   ],
   "source": [
    "# Append a List to a List\n",
    "x = [10, 20, 30, 40, 50]\n",
    "x.append([100, 200, 300])\n",
    "print(x)"
   ]
  },
  {
   "cell_type": "code",
   "execution_count": 19,
   "metadata": {},
   "outputs": [
    {
     "name": "stdout",
     "output_type": "stream",
     "text": [
      "[10, 20, 30, 40, 50, 100, 200, 300]\n"
     ]
    }
   ],
   "source": [
    "# Extend a List\n",
    "x = [10, 20, 30, 40, 50]\n",
    "x.extend([100, 200, 300])\n",
    "print(x)"
   ]
  },
  {
   "cell_type": "code",
   "execution_count": 20,
   "metadata": {},
   "outputs": [
    {
     "name": "stdout",
     "output_type": "stream",
     "text": [
      "[10, 20, 40, 50]\n"
     ]
    }
   ],
   "source": [
    "# Remove from a List\n",
    "x = [10, 20, 30, 40, 50]\n",
    "x.remove(30)\n",
    "print(x)"
   ]
  },
  {
   "cell_type": "code",
   "execution_count": 21,
   "metadata": {},
   "outputs": [
    {
     "name": "stdout",
     "output_type": "stream",
     "text": [
      "[10, 20, 30, 40]\n",
      "50\n"
     ]
    }
   ],
   "source": [
    "# Pop from a List\n",
    "x = [10, 20, 30, 40, 50]\n",
    "y = x.pop()\n",
    "print(x)\n",
    "print(y)"
   ]
  },
  {
   "cell_type": "code",
   "execution_count": 22,
   "metadata": {},
   "outputs": [
    {
     "name": "stdout",
     "output_type": "stream",
     "text": [
      "[10, 20, 30, 40, 50]\n",
      "[10, 20, 30, 40, 50]\n"
     ]
    }
   ],
   "source": [
    "# Copying a List\n",
    "x = [10, 20, 30, 40, 50]\n",
    "y = x\n",
    "print(x)\n",
    "print(y)"
   ]
  },
  {
   "cell_type": "code",
   "execution_count": 23,
   "metadata": {},
   "outputs": [
    {
     "name": "stdout",
     "output_type": "stream",
     "text": [
      "[10, 20, 40, 50, 100]\n",
      "[10, 20, 40, 50, 100]\n"
     ]
    }
   ],
   "source": [
    "# Copying a List (Wrong)\n",
    "x = [10, 20, 30, 40, 50]\n",
    "y = x\n",
    "x.append(100)\n",
    "x.remove(30)\n",
    "print(x)\n",
    "print(y)"
   ]
  },
  {
   "cell_type": "code",
   "execution_count": 24,
   "metadata": {},
   "outputs": [
    {
     "name": "stdout",
     "output_type": "stream",
     "text": [
      "[10, 20, 40, 50, 100]\n",
      "[10, 20, 30, 40, 50]\n"
     ]
    }
   ],
   "source": [
    "# Copying a List (Right)\n",
    "x = [10, 20, 30, 40, 50]\n",
    "y = x[:]\n",
    "x.append(100)\n",
    "x.remove(30)\n",
    "print(x)\n",
    "print(y)"
   ]
  },
  {
   "cell_type": "code",
   "execution_count": 25,
   "metadata": {},
   "outputs": [
    {
     "name": "stdout",
     "output_type": "stream",
     "text": [
      "[10, 'NTU', 10, 'NTU']\n",
      "[10, 'NTU', 10, 'NTU', 10, 'NTU']\n"
     ]
    }
   ],
   "source": [
    "# List Arithmetic\n",
    "x = [10, \"NTU\"]\n",
    "print(x + x)\n",
    "print(3 * x)"
   ]
  },
  {
   "cell_type": "markdown",
   "metadata": {},
   "source": [
    "---\n",
    "\n",
    "## Strings in Python\n",
    "\n",
    "Strings in Python behave similar to a List of Characters, although they are not the same."
   ]
  },
  {
   "cell_type": "code",
   "execution_count": 26,
   "metadata": {},
   "outputs": [
    {
     "name": "stdout",
     "output_type": "stream",
     "text": [
      "Singapore is of type <class 'str'>\n",
      "The third element  : n\n",
      "First two elements : Si\n",
      "Last two elements  : re\n",
      "Concatenate strings: SingaporeSingapore\n",
      "Multiply strings   : SingaporeSingaporeSingapore\n"
     ]
    }
   ],
   "source": [
    "# String Operations in Python\n",
    "x = \"Singapore\"\n",
    "print(x, \"is of type\", type(x))\n",
    "print(\"The third element  :\", x[2])\n",
    "print(\"First two elements :\", x[:2])\n",
    "print(\"Last two elements  :\", x[-2:])\n",
    "print(\"Concatenate strings:\", x + x)\n",
    "print(\"Multiply strings   :\", 3 * x)"
   ]
  },
  {
   "cell_type": "markdown",
   "metadata": {},
   "source": [
    "---\n",
    "\n",
    "## Python Tuples\n",
    "\n",
    "Tuples are another important Data Structure in Python. Tuples are ordered, and immutable."
   ]
  },
  {
   "cell_type": "code",
   "execution_count": 27,
   "metadata": {},
   "outputs": [
    {
     "name": "stdout",
     "output_type": "stream",
     "text": [
      "(10, 20, 30) is of type <class 'tuple'>\n",
      "The third element  : 30\n",
      "First two elements : (10, 20)\n",
      "Last two elements  : (20, 30)\n",
      "Concatenate tuples : (10, 20, 30, 10, 20, 30)\n",
      "Multiply tuples    : (10, 20, 30, 10, 20, 30, 10, 20, 30)\n"
     ]
    }
   ],
   "source": [
    "# Tuple Operations in Python\n",
    "x = (10, 20, 30)\n",
    "print(x, \"is of type\", type(x))\n",
    "print(\"The third element  :\", x[2])\n",
    "print(\"First two elements :\", x[:2])\n",
    "print(\"Last two elements  :\", x[-2:])\n",
    "print(\"Concatenate tuples :\", x + x)\n",
    "print(\"Multiply tuples    :\", 3 * x)"
   ]
  },
  {
   "cell_type": "markdown",
   "metadata": {},
   "source": [
    "---\n",
    "\n",
    "## Data Structure Conversion\n",
    "\n",
    "It is quite easy in Python to convert one Data Structure to another. Especially Lists, Tuples and Strings."
   ]
  },
  {
   "cell_type": "code",
   "execution_count": 28,
   "metadata": {},
   "outputs": [
    {
     "name": "stdout",
     "output_type": "stream",
     "text": [
      "Singapore is of type <class 'str'>\n",
      "['S', 'i', 'n', 'g', 'a', 'p', 'o', 'r', 'e'] is of type <class 'list'>\n",
      "('S', 'i', 'n', 'g', 'a', 'p', 'o', 'r', 'e') is of type <class 'tuple'>\n"
     ]
    }
   ],
   "source": [
    "# Data Structure Conversion\n",
    "x = \"Singapore\"\n",
    "print(x, \"is of type\", type(x))\n",
    "print(list(x), \"is of type\", type(list(x)))\n",
    "print(tuple(x), \"is of type\", type(tuple(x)))"
   ]
  },
  {
   "cell_type": "markdown",
   "metadata": {},
   "source": [
    "---\n",
    "\n",
    "## Multiple Simultaneous Assignments\n",
    "\n",
    "It is possible in Python to simultaneously assign multiple variables, using Lists or Tuples."
   ]
  },
  {
   "cell_type": "code",
   "execution_count": 29,
   "metadata": {},
   "outputs": [
    {
     "name": "stdout",
     "output_type": "stream",
     "text": [
      "x = Python    y = 3.7    z = Singapore\n",
      "x = Python    y = 3.7    z = Singapore\n",
      "x = Python    y = 3.7    z = Singapore\n"
     ]
    }
   ],
   "source": [
    "# Multiple Simultaneous Assignments\n",
    "[x, y, z] = [\"Python\", 3.7, \"Singapore\"]\n",
    "print(\"x =\", x, \"   y =\", y, \"   z =\", z)\n",
    "(x, y, z) = (\"Python\", 3.7, \"Singapore\")\n",
    "print(\"x =\", x, \"   y =\", y, \"   z =\", z)\n",
    "x, y, z = \"Python\", 3.7, \"Singapore\"\n",
    "print(\"x =\", x, \"   y =\", y, \"   z =\", z)"
   ]
  },
  {
   "cell_type": "markdown",
   "metadata": {},
   "source": [
    "---\n",
    "\n",
    "## Python Sets\n",
    "\n",
    "Set is a handy Data Structure in Python that satisfies all basic properties of a mathematical Set."
   ]
  },
  {
   "cell_type": "code",
   "execution_count": 31,
   "metadata": {},
   "outputs": [
    {
     "name": "stdout",
     "output_type": "stream",
     "text": [
      "Union of Sets : {50, 20, 70, 40, 10, 60, 30}\n",
      "Set Intersect : {40, 50}\n",
      "Set Difference: {10, 20, 30}\n"
     ]
    }
   ],
   "source": [
    "# Set Operations\n",
    "x = [10, 20, 30, 40, 50]\n",
    "y = [40, 50, 60, 70]\n",
    "A, B = set(x), set(y)\n",
    "print(\"Union of Sets :\", A.union(B))\n",
    "print(\"Set Intersect :\", A.intersection(B))\n",
    "print(\"Set Difference:\", A.difference(B))"
   ]
  },
  {
   "cell_type": "code",
   "execution_count": 32,
   "metadata": {},
   "outputs": [
    {
     "name": "stdout",
     "output_type": "stream",
     "text": [
      "100 popped, leaving behind {40, 10, 50, 20}\n"
     ]
    }
   ],
   "source": [
    "# Add or Remove from a Set\n",
    "A = set([10, 20, 30, 40, 50])\n",
    "A.add(100)\n",
    "A.remove(30)\n",
    "x = A.pop()\n",
    "print(x, \"popped, leaving behind\", A)"
   ]
  },
  {
   "cell_type": "code",
   "execution_count": 33,
   "metadata": {},
   "outputs": [
    {
     "name": "stdout",
     "output_type": "stream",
     "text": [
      "False True True\n"
     ]
    }
   ],
   "source": [
    "# Set Relations\n",
    "A = set([10, 20, 30, 40, 50])\n",
    "B = set([20,40])\n",
    "print(A.isdisjoint(B), B.issubset(A), A.issuperset(B))"
   ]
  },
  {
   "cell_type": "markdown",
   "metadata": {},
   "source": [
    "---\n",
    "\n",
    "## Python Dictionaries\n",
    "\n",
    "Without a doubt, Dictionary is the most versatile Data Structure in Python (may be right after the Lists).   \n",
    "The Dictionary is structured as a collection of `(key, value)` pairs encoded as `{key: value}`."
   ]
  },
  {
   "cell_type": "code",
   "execution_count": 36,
   "metadata": {},
   "outputs": [
    {
     "name": "stdout",
     "output_type": "stream",
     "text": [
      "{1: 'Python', 2: 'at', 3: 'NTU'} is of type <class 'dict'>\n"
     ]
    }
   ],
   "source": [
    "# Dictionary in Python\n",
    "x = { 1: 'Python', 2: 'at', 3: 'NTU' }\n",
    "print(x, \"is of type\", type(x))"
   ]
  },
  {
   "cell_type": "code",
   "execution_count": 37,
   "metadata": {},
   "outputs": [
    {
     "name": "stdout",
     "output_type": "stream",
     "text": [
      "Python at NTU\n"
     ]
    }
   ],
   "source": [
    "# Elements in a Dictionary\n",
    "x = { 1: 'Python', 2: 'at', 3: 'NTU' }\n",
    "print(x[1], x[2], x[3])"
   ]
  },
  {
   "cell_type": "code",
   "execution_count": 38,
   "metadata": {},
   "outputs": [
    {
     "name": "stdout",
     "output_type": "stream",
     "text": [
      "Python at NTU\n"
     ]
    }
   ],
   "source": [
    "# Various types of Keys\n",
    "x = { 1: 'Python', 'Two': 'at', (3): 'NTU' }\n",
    "print(x[1], x[\"Two\"], x[(3)])"
   ]
  },
  {
   "cell_type": "code",
   "execution_count": 39,
   "metadata": {},
   "outputs": [
    {
     "name": "stdout",
     "output_type": "stream",
     "text": [
      "NTU is located in Singapore\n"
     ]
    }
   ],
   "source": [
    "# Strings as Keys as well as Values\n",
    "x = { \"UCL\": \"London\", \"MIT\": \"Cambridge\", \"NTU\": \"Singapore\" }\n",
    "print(\"NTU is located in\", x[\"NTU\"])"
   ]
  },
  {
   "cell_type": "code",
   "execution_count": 40,
   "metadata": {},
   "outputs": [
    {
     "name": "stdout",
     "output_type": "stream",
     "text": [
      "NTU is located in Singapore and has 5000 students!\n"
     ]
    }
   ],
   "source": [
    "# Lists as Values in a Dictionary\n",
    "x = { \"UCL\": [\"London\", 500], \"MIT\": [\"Cambridge\", 2000] , \"NTU\": [\"Singapore\", 5000] }\n",
    "print(\"NTU is located in\", x[\"NTU\"][0], \"and has\", x[\"NTU\"][1], \"students!\")"
   ]
  },
  {
   "cell_type": "code",
   "execution_count": 41,
   "metadata": {},
   "outputs": [
    {
     "name": "stdout",
     "output_type": "stream",
     "text": [
      "dict_items([('UCL', ['London', 500]), ('MIT', ['Cambridge', 2000]), ('NTU', ['Singapore', 5000])])\n",
      "dict_keys(['UCL', 'MIT', 'NTU'])\n",
      "dict_values([['London', 500], ['Cambridge', 2000], ['Singapore', 5000]])\n"
     ]
    }
   ],
   "source": [
    "# Items, Keys and Values in a Dictionary\n",
    "x = { \"UCL\": [\"London\", 500], \"MIT\": [\"Cambridge\", 2000] , \"NTU\": [\"Singapore\", 5000] }\n",
    "print(x.items())\n",
    "print(x.keys())\n",
    "print(x.values())"
   ]
  },
  {
   "cell_type": "code",
   "execution_count": null,
   "metadata": {},
   "outputs": [],
   "source": []
  }
 ],
 "metadata": {
  "kernelspec": {
   "display_name": "Python 3",
   "language": "python",
   "name": "python3"
  },
  "language_info": {
   "codemirror_mode": {
    "name": "ipython",
    "version": 3
   },
   "file_extension": ".py",
   "mimetype": "text/x-python",
   "name": "python",
   "nbconvert_exporter": "python",
   "pygments_lexer": "ipython3",
   "version": "3.6.6"
  }
 },
 "nbformat": 4,
 "nbformat_minor": 2
}
